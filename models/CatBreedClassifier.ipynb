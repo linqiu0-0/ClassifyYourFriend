{
  "nbformat": 4,
  "nbformat_minor": 0,
  "metadata": {
    "colab": {
      "provenance": []
    },
    "kernelspec": {
      "name": "python3",
      "display_name": "Python 3"
    },
    "language_info": {
      "name": "python"
    },
    "accelerator": "GPU",
    "gpuClass": "standard"
  },
  "cells": [
    {
      "cell_type": "code",
      "execution_count": null,
      "metadata": {
        "id": "nN9ffEb9fkBU",
        "colab": {
          "base_uri": "https://localhost:8080/"
        },
        "outputId": "ebfef53f-f98d-4be0-db36-e80283e4470b"
      },
      "outputs": [
        {
          "output_type": "stream",
          "name": "stdout",
          "text": [
            "Mounted at /content/drive\n"
          ]
        }
      ],
      "source": [
        "from google.colab import drive\n",
        "drive.mount('/content/drive', force_remount=True)"
      ]
    },
    {
      "cell_type": "code",
      "source": [
        "import numpy as np  # linear algebra\n",
        "import os\n",
        "import torch\n",
        "import torchvision\n",
        "import torch.nn as nn  # All neural network modules, nn.Linear, nn.Conv2d, BatchNorm, Loss functions\n",
        "import torchvision.datasets as datasets  # Has standard datasets we can import in a nice way\n",
        "import torchvision.transforms as transforms  # Transformations we can perform on our dataset\n",
        "import torch.nn.functional as F  # All functions that don't have any parameters\n",
        "from torch.utils.data import DataLoader, Dataset  # Gives easier dataset managment and creates mini batches\n",
        "from torchvision.datasets import ImageFolder\n",
        "import torch.optim as optim  # For all Optimization algorithms, SGD, Adam, etc.\n",
        "import torch.nn.functional as F\n",
        "from PIL import Image\n",
        "import matplotlib.pyplot as plt\n",
        "from tqdm import tqdm\n"
      ],
      "metadata": {
        "id": "3Wzo3LsZPmE2"
      },
      "execution_count": null,
      "outputs": []
    },
    {
      "cell_type": "code",
      "source": [
        "DEVICE = torch.device(\"cuda\" if torch.cuda.is_available() else \"cpu\") # use gpu or cpu"
      ],
      "metadata": {
        "id": "sMAkiG56PpGv"
      },
      "execution_count": null,
      "outputs": []
    },
    {
      "cell_type": "code",
      "source": [
        "# !unzip -u \"/content/drive/Shareddrives/cse 455/CatBreed.zip\" -d \"/content/drive/Shareddrives/cse 455/\""
      ],
      "metadata": {
        "id": "c2LuoE70QFQg"
      },
      "execution_count": null,
      "outputs": []
    },
    {
      "cell_type": "code",
      "source": [
        "DEVICE"
      ],
      "metadata": {
        "colab": {
          "base_uri": "https://localhost:8080/"
        },
        "id": "RBpfl584dZqG",
        "outputId": "7e0a67d8-bbe2-4278-8f6c-cdd5f937ebd9"
      },
      "execution_count": null,
      "outputs": [
        {
          "output_type": "execute_result",
          "data": {
            "text/plain": [
              "device(type='cuda')"
            ]
          },
          "metadata": {},
          "execution_count": 6
        }
      ]
    },
    {
      "cell_type": "code",
      "source": [
        "# rm -rf \"/content/drive/Shareddrives/cse 455/CatBreed_restructured\""
      ],
      "metadata": {
        "id": "OqoPVTHFlcLk"
      },
      "execution_count": null,
      "outputs": []
    },
    {
      "cell_type": "code",
      "source": [
        "# mkdir \"/content/drive/Shareddrives/cse 455/CatBreed_restructured\""
      ],
      "metadata": {
        "id": "90Awvtshle2y"
      },
      "execution_count": null,
      "outputs": []
    },
    {
      "cell_type": "code",
      "source": [
        "# restructure data \n",
        "import os\n",
        "import shutil\n",
        "\n",
        "# Define the paths to the folders\n",
        "data_folder = \"/content/drive/Shareddrives/cse 455/cats-breads\"\n",
        "train_folder = \"/content/drive/Shareddrives/cse 455/CatBreed_restructured/train/\"\n",
        "test_folder = \"/content/drive/Shareddrives/cse 455/CatBreed_restructured/test/\"\n",
        "valid_folder = \"/content/drive/Shareddrives/cse 455/CatBreed_restructured/valid/\"\n",
        "\n",
        "# Create the train, test, and valid folders\n",
        "os.makedirs(train_folder, exist_ok=True)\n",
        "os.makedirs(test_folder, exist_ok=True)\n",
        "os.makedirs(valid_folder, exist_ok=True)\n",
        "\n",
        "# ignore_folder = [\"Domestic Short Hair\", \"Domestic Long Hair\", \"Domestic Medium Hair\", \n",
        "#                  \"American Bobtail\", \"American Shorthair\", \"American Wirehair\", \"American Curl\"]\n",
        "\n",
        "# Loop through each breed folder in the data folder\n",
        "for breed_folder_name in tqdm(os.listdir(data_folder)):\n",
        "    if breed_folder_name == '.DS_Store' : # breed_folder_name in ignore_folder\n",
        "      print(\"ignored: \" + breed_folder_name)\n",
        "      continue\n",
        "    breed_folder_path = os.path.join(data_folder, breed_folder_name)\n",
        "    # Get a list of all the image files in the breed folder\n",
        "    image_file_names = os.listdir(breed_folder_path)\n",
        "    image_file_names.sort() # Sorting the files to get consistent files for each folder\n",
        "    if len(image_file_names) < 50:\n",
        "      continue\n",
        "\n",
        "    # Create the corresponding breed folder in the train, test, and valid folders\n",
        "    train_breed_folder_path = os.path.join(train_folder, breed_folder_name)\n",
        "    os.makedirs(train_breed_folder_path, exist_ok=True)\n",
        "    \n",
        "    test_breed_folder_path = os.path.join(test_folder, breed_folder_name)\n",
        "    os.makedirs(test_breed_folder_path, exist_ok=True)\n",
        "    \n",
        "    valid_breed_folder_path = os.path.join(valid_folder, breed_folder_name)\n",
        "    os.makedirs(valid_breed_folder_path, exist_ok=True)\n",
        "    \n",
        "\n",
        "    # Split the image files into train, test, and valid sets\n",
        "    test_image_file_names = image_file_names[:int(len(image_file_names) * 0.1)]\n",
        "    valid_image_file_names = image_file_names[-int(len(image_file_names) * 0.1):]\n",
        "    train_image_file_names = image_file_names[int(len(image_file_names) * 0.1):-int(len(image_file_names) * 0.1)]\n",
        "\n",
        "    # Move the image files into the corresponding train, test, and valid breed folders\n",
        "    for image_file_name in test_image_file_names:\n",
        "        if image_file_name == '.DS_Store':\n",
        "          continue\n",
        "        src_path = os.path.join(breed_folder_path, image_file_name)\n",
        "        dst_path = os.path.join(test_breed_folder_path, image_file_name)\n",
        "        shutil.copy(src_path, dst_path)\n",
        "\n",
        "    for image_file_name in valid_image_file_names:\n",
        "        if image_file_name == '.DS_Store':\n",
        "          continue\n",
        "        src_path = os.path.join(breed_folder_path, image_file_name)\n",
        "        dst_path = os.path.join(valid_breed_folder_path, image_file_name)\n",
        "        shutil.copy(src_path, dst_path)\n",
        "\n",
        "    for image_file_name in train_image_file_names:\n",
        "        if image_file_name == '.DS_Store':\n",
        "          continue\n",
        "        src_path = os.path.join(breed_folder_path, image_file_name)\n",
        "        dst_path = os.path.join(train_breed_folder_path, image_file_name)\n",
        "        shutil.copy(src_path, dst_path)\n"
      ],
      "metadata": {
        "colab": {
          "base_uri": "https://localhost:8080/"
        },
        "id": "_BovkZ-OSpIS",
        "outputId": "aa0fea0c-2989-4551-fe1b-8d061fcc9baa"
      },
      "execution_count": null,
      "outputs": [
        {
          "output_type": "stream",
          "name": "stderr",
          "text": [
            "100%|██████████| 12/12 [01:10<00:00,  5.86s/it]\n"
          ]
        }
      ]
    },
    {
      "cell_type": "markdown",
      "source": [
        "# Load Data"
      ],
      "metadata": {
        "id": "VzOJ54-52SI6"
      }
    },
    {
      "cell_type": "code",
      "source": [
        "import os\n",
        "import pickle\n",
        "breeds = os.listdir(\"/content/drive/Shareddrives/cse 455/CatBreed_restructured/test\")\n",
        "breeds = sorted(breeds)\n",
        "idx_to_name = dict() \n",
        "name_to_idx = dict()\n",
        "\n",
        "for i in range(len(breeds)):\n",
        "    idx_to_name[i] = breeds[i]\n",
        "name_to_idx = {value: key for key, value in idx_to_name.items()}\n",
        "\n",
        "(idx_to_name, name_to_idx)\n",
        "\n",
        "# with open(\"/content/drive/Shareddrives/cse 455/CatBreed_models/cat_class_to_name\", \"wb\") as f:\n",
        "#     pickle.dump(idx_to_name, f)"
      ],
      "metadata": {
        "id": "VD4VPN3tfKYQ",
        "colab": {
          "base_uri": "https://localhost:8080/"
        },
        "outputId": "146483a4-7bcf-4aad-d4ae-589f29ae286a"
      },
      "execution_count": null,
      "outputs": [
        {
          "output_type": "execute_result",
          "data": {
            "text/plain": [
              "({0: 'Abyssinian',\n",
              "  1: 'Bengal',\n",
              "  2: 'Birman',\n",
              "  3: 'Bombay',\n",
              "  4: 'British_Shorthair',\n",
              "  5: 'Egyptian_Mau',\n",
              "  6: 'Maine_Coon',\n",
              "  7: 'Persian',\n",
              "  8: 'Ragdoll',\n",
              "  9: 'Russian_Blue',\n",
              "  10: 'Siamese',\n",
              "  11: 'Sphynx'},\n",
              " {'Abyssinian': 0,\n",
              "  'Bengal': 1,\n",
              "  'Birman': 2,\n",
              "  'Bombay': 3,\n",
              "  'British_Shorthair': 4,\n",
              "  'Egyptian_Mau': 5,\n",
              "  'Maine_Coon': 6,\n",
              "  'Persian': 7,\n",
              "  'Ragdoll': 8,\n",
              "  'Russian_Blue': 9,\n",
              "  'Siamese': 10,\n",
              "  'Sphynx': 11})"
            ]
          },
          "metadata": {},
          "execution_count": 49
        }
      ]
    },
    {
      "cell_type": "code",
      "source": [
        "IMAGE_WIDTH = 224\n",
        "IMAGE_HEIGHT = 224\n",
        "IMAGE_SIZE = (IMAGE_WIDTH, IMAGE_HEIGHT)\n",
        "IMAGE_CHANNELS = 3\n",
        "DATA_PATH = \"/content/drive/Shareddrives/cse 455/CatBreed_restructured/\"\n",
        "BATCH_SIZE = 32\n",
        "SAVE_TO = \"/content/drive/Shareddrives/cse 455/CatBreed_models/\""
      ],
      "metadata": {
        "id": "04vCZ4e72gR3"
      },
      "execution_count": null,
      "outputs": []
    },
    {
      "cell_type": "code",
      "source": [
        "## add data augmentation\n",
        "transform_train = transforms.Compose([\n",
        "transforms.Resize((IMAGE_WIDTH, IMAGE_HEIGHT)),\n",
        "transforms.RandomCrop(IMAGE_WIDTH, padding=8, padding_mode='edge'), # Take IMAGE_WIDTHxIMAGE_WIDTH crops from padded images\n",
        "transforms.RandomHorizontalFlip(),    # 50% of time flip image along y-axis\n",
        "transforms.ToTensor(),\n",
        "transforms.Normalize(mean = (0.485, 0.456, 0.406), std = (0.229, 0.224, 0.225))\n",
        "])\n",
        "\n",
        "\n",
        "transform_test = transforms.Compose([\n",
        "transforms.Resize((IMAGE_WIDTH, IMAGE_HEIGHT)),\n",
        "transforms.ToTensor(),\n",
        "transforms.Normalize(mean = (0.485, 0.456, 0.406), std = (0.229, 0.224, 0.225))\n",
        "])\n"
      ],
      "metadata": {
        "id": "u07exnJn2mIl"
      },
      "execution_count": null,
      "outputs": []
    },
    {
      "cell_type": "code",
      "source": [
        "#  rmdir \"/content/drive/Shareddrives/cse 455/CatBreed_restructured/test/.ipynb_checkpoints\""
      ],
      "metadata": {
        "id": "Wley9smBfVv1"
      },
      "execution_count": null,
      "outputs": []
    },
    {
      "cell_type": "code",
      "source": [
        "data_train = datasets.ImageFolder(DATA_PATH + \"train\", transform=transform_train)\n",
        "data_test = datasets.ImageFolder(DATA_PATH + \"test\", transform=transform_test)\n",
        "data_val = datasets.ImageFolder(DATA_PATH + \"valid\", transform=transform_test)\n"
      ],
      "metadata": {
        "id": "_-4uY1M43BXr"
      },
      "execution_count": null,
      "outputs": []
    },
    {
      "cell_type": "code",
      "source": [
        "train_loader = DataLoader(\n",
        "data_train,\n",
        "batch_size=BATCH_SIZE,\n",
        "shuffle=True,\n",
        "num_workers=2\n",
        ")\n",
        "\n",
        "val_loader = DataLoader(\n",
        "data_val,\n",
        "batch_size=BATCH_SIZE,\n",
        "shuffle=False,\n",
        "num_workers=2\n",
        "\n",
        ")\n",
        "\n",
        "test_loader = DataLoader(\n",
        "data_test,\n",
        "batch_size=BATCH_SIZE,\n",
        "shuffle=False,\n",
        "num_workers=2\n",
        ")"
      ],
      "metadata": {
        "id": "n8QJ432B3QK_"
      },
      "execution_count": null,
      "outputs": []
    },
    {
      "cell_type": "code",
      "source": [
        "(len(data_train), len(data_test), len(data_val))\n"
      ],
      "metadata": {
        "id": "LmUFaCFL3vGL",
        "colab": {
          "base_uri": "https://localhost:8080/"
        },
        "outputId": "e1e841b2-30da-4728-b89a-0a8f8aa1708c"
      },
      "execution_count": null,
      "outputs": [
        {
          "output_type": "execute_result",
          "data": {
            "text/plain": [
              "(1806, 230, 227)"
            ]
          },
          "metadata": {},
          "execution_count": 29
        }
      ]
    },
    {
      "cell_type": "code",
      "source": [
        "from collections import Counter\n",
        "print(dict(Counter(data_train.targets)))"
      ],
      "metadata": {
        "id": "tEGQzXxoEPIj",
        "colab": {
          "base_uri": "https://localhost:8080/"
        },
        "outputId": "8edf5042-2146-47d9-e2ae-7f94df229540"
      },
      "execution_count": null,
      "outputs": [
        {
          "output_type": "stream",
          "name": "stdout",
          "text": [
            "{0: 163, 1: 160, 2: 135, 3: 160, 4: 160, 5: 127, 6: 160, 7: 160, 8: 152, 9: 160, 10: 160, 11: 109}\n"
          ]
        }
      ]
    },
    {
      "cell_type": "code",
      "source": [
        "dataiter = iter(train_loader)\n",
        "images, labels = next(dataiter)\n",
        "images = images[:30]\n",
        "labels = labels[:30]\n",
        "print(images.size())\n",
        "\n",
        "def imshow(img):\n",
        "    npimg = img.numpy()\n",
        "    plt.imshow(np.transpose(npimg, (1, 2, 0)))\n",
        "    plt.show()\n",
        "\n",
        "# show images\n",
        "imshow(torchvision.utils.make_grid(images))\n",
        "# print labels\n",
        "for label in labels:\n",
        "  print(\"Labels:\" + idx_to_name[label.item()])"
      ],
      "metadata": {
        "id": "GYX-jj5r5Hy2",
        "colab": {
          "base_uri": "https://localhost:8080/",
          "height": 775
        },
        "outputId": "7f480cf2-46b5-4bdb-b47c-a89cf683857c"
      },
      "execution_count": null,
      "outputs": [
        {
          "output_type": "stream",
          "name": "stderr",
          "text": [
            "WARNING:matplotlib.image:Clipping input data to the valid range for imshow with RGB data ([0..1] for floats or [0..255] for integers).\n"
          ]
        },
        {
          "output_type": "stream",
          "name": "stdout",
          "text": [
            "torch.Size([30, 3, 224, 224])\n"
          ]
        },
        {
          "output_type": "display_data",
          "data": {
            "text/plain": [
              "<Figure size 432x288 with 1 Axes>"
            ],
            "image/png": "[encoded data removed]"
          },
          "metadata": {
            "needs_background": "light"
          }
        },
        {
          "output_type": "stream",
          "name": "stdout",
          "text": [
            "Labels:Maine_Coon\n",
            "Labels:Sphynx\n",
            "Labels:Bombay\n",
            "Labels:Abyssinian\n",
            "Labels:Bombay\n",
            "Labels:Ragdoll\n",
            "Labels:Persian\n",
            "Labels:Maine_Coon\n",
            "Labels:Ragdoll\n",
            "Labels:Ragdoll\n",
            "Labels:Egyptian_Mau\n",
            "Labels:Bombay\n",
            "Labels:Ragdoll\n",
            "Labels:Ragdoll\n",
            "Labels:Maine_Coon\n",
            "Labels:Egyptian_Mau\n",
            "Labels:Abyssinian\n",
            "Labels:Ragdoll\n",
            "Labels:Abyssinian\n",
            "Labels:Persian\n",
            "Labels:British_Shorthair\n",
            "Labels:Ragdoll\n",
            "Labels:Ragdoll\n",
            "Labels:Maine_Coon\n",
            "Labels:Persian\n",
            "Labels:Bengal\n",
            "Labels:Bengal\n",
            "Labels:Abyssinian\n",
            "Labels:British_Shorthair\n",
            "Labels:Abyssinian\n"
          ]
        }
      ]
    },
    {
      "cell_type": "markdown",
      "source": [
        "# Define Model"
      ],
      "metadata": {
        "id": "H0vWUaU-3XHl"
      }
    },
    {
      "cell_type": "code",
      "source": [
        "\n",
        "def train(net, epochs=1, start_epoch=0, lr=0.01, momentum=0.9, decay=0.0005, state=None, schedule={}):\n",
        "    net.to(DEVICE)\n",
        "    net.train()\n",
        "    train_losses = []\n",
        "    train_accuracies = []\n",
        "    val_accuracies = []\n",
        "    val_losses = []\n",
        "\n",
        "    criterion = nn.CrossEntropyLoss()\n",
        "    optimizer = optim.SGD(net.parameters(), lr=lr, momentum=momentum, weight_decay=decay)\n",
        "    # Load previous training state\n",
        "    if state:\n",
        "        net.load_state_dict(state['net'])\n",
        "        optimizer.load_state_dict(state['optimizer'])\n",
        "        start_epoch = state['epoch']\n",
        "        train_losses = state['losses']\n",
        "\n",
        "    # Fast forward lr schedule through already trained epochs\n",
        "    for epoch in range(start_epoch):\n",
        "        if epoch in schedule:\n",
        "            print (\"Learning rate: %f\"% schedule[epoch])\n",
        "            for g in optimizer.param_groups:\n",
        "                g['lr'] = schedule[epoch]\n",
        "\n",
        "    for epoch in range(start_epoch, epochs):\n",
        "        sum_loss = 0.0\n",
        "        train_acc = 0.0\n",
        "        net.train()\n",
        "\n",
        "        # Update learning rate when scheduled\n",
        "        if epoch in schedule:\n",
        "            print (\"Learning rate: %f\"% schedule[epoch])\n",
        "            for g in optimizer.param_groups:\n",
        "                g['lr'] = schedule[epoch]\n",
        "\n",
        "        loop = tqdm(enumerate(train_loader), total = len(train_loader))\n",
        "        for i, batch in loop:\n",
        "          inputs, labels = batch[0].to(DEVICE), batch[1].to(DEVICE)\n",
        "\n",
        "          optimizer.zero_grad()\n",
        "\n",
        "          outputs = net(inputs)\n",
        "          loss = criterion(outputs, labels)\n",
        "          labels_pred_max = torch.argmax(outputs, 1)\n",
        "          batch_acc = torch.sum(labels_pred_max == labels)\n",
        "          train_acc = train_acc + batch_acc.item()\n",
        "          loss.backward()  # autograd magic, computes all the partial derivatives\n",
        "          optimizer.step() # takes a step in gradient direction\n",
        "\n",
        "          train_losses.append(loss.item())\n",
        "          sum_loss += loss.item()\n",
        "          loop.set_postfix(batch_idx= i, batch_acc= batch_acc.item() /BATCH_SIZE, loss= loss.item())\n",
        "\n",
        "        # Validation loop; use .no_grad() context manager to save memory.\n",
        "        train_losses.append(sum_loss / len(train_loader))\n",
        "        train_accuracies.append(train_acc / (BATCH_SIZE * len(train_loader)))\n",
        "        net.eval()\n",
        "        val_loss = 0.0\n",
        "        val_acc = 0.0\n",
        "        with torch.no_grad():\n",
        "          for (v_batch, labels) in val_loader:\n",
        "              v_batch, labels = v_batch.to(DEVICE), labels.to(DEVICE)\n",
        "              labels_pred = net(v_batch)\n",
        "              v_batch_loss = criterion(labels_pred, labels)\n",
        "              val_loss = val_loss + v_batch_loss.item()\n",
        "              v_pred_max = torch.argmax(labels_pred, 1)\n",
        "              batch_acc = torch.sum(v_pred_max == labels)\n",
        "              val_acc = val_acc + batch_acc.item()\n",
        "        val_losses.append(val_loss / len(val_loader))\n",
        "        val_accuracies.append(val_acc / (BATCH_SIZE * len(val_loader)))\n",
        "        print(\"Epoch: {}, val loss: {:.4f}, val acc: {:.4f}, train loss: {:.4f}, train acc: {:.4f},\\n\".format(\n",
        "            epoch, val_losses[epoch], val_accuracies[epoch], train_losses[epoch], train_accuracies[epoch]))\n",
        "\n",
        "        torch.save(net.state_dict(), SAVE_TO+\"CatBreed_ckpt\" +  str(epoch)+ \".pt\")\n",
        "    return losses"
      ],
      "metadata": {
        "id": "jC7pvFJt98wp"
      },
      "execution_count": null,
      "outputs": []
    },
    {
      "cell_type": "code",
      "source": [
        "# resnet = torch.hub.load('pytorch/vision:v0.6.0', 'resnet18', pretrained=True)\n",
        "# resnet.fc = nn.Linear(512, 40) # This will reinitialize the layer as well\n",
        "\n",
        "# losses = train(resnet, epochs=5, lr=.01 )"
      ],
      "metadata": {
        "id": "4pWM96vg-CYq"
      },
      "execution_count": null,
      "outputs": []
    },
    {
      "cell_type": "code",
      "source": [
        "resnet = torch.hub.load('pytorch/vision:v0.6.0', 'resnet18', pretrained=True)\n",
        "resnet.fc = nn.Linear(512, 12) # This will reinitialize the layer as well\n",
        "losses = train(resnet, epochs=20,  lr=.001)"
      ],
      "metadata": {
        "id": "KjjFkbfb-F2d",
        "colab": {
          "base_uri": "https://localhost:8080/",
          "height": 887
        },
        "outputId": "a1e15cdf-f559-469d-f434-b21e72f6b7d4"
      },
      "execution_count": null,
      "outputs": [
        {
          "output_type": "stream",
          "name": "stderr",
          "text": [
            "Using cache found in /root/.cache/torch/hub/pytorch_vision_v0.6.0\n",
            "/usr/local/lib/python3.9/dist-packages/torchvision/models/_utils.py:208: UserWarning: The parameter 'pretrained' is deprecated since 0.13 and may be removed in the future, please use 'weights' instead.\n",
            "  warnings.warn(\n",
            "/usr/local/lib/python3.9/dist-packages/torchvision/models/_utils.py:223: UserWarning: Arguments other than a weight enum or `None` for 'weights' are deprecated since 0.13 and may be removed in the future. The current behavior is equivalent to passing `weights=ResNet18_Weights.IMAGENET1K_V1`. You can also use `weights=ResNet18_Weights.DEFAULT` to get the most up-to-date weights.\n",
            "  warnings.warn(msg)\n",
            "100%|██████████| 57/57 [00:16<00:00,  3.45it/s, batch_acc=0.312, batch_idx=56, loss=1.07]\n"
          ]
        },
        {
          "output_type": "stream",
          "name": "stdout",
          "text": [
            "Epoch: 0, val loss: 0.7986, val acc: 0.7383, train loss: 2.6541, train acc: 0.4841,\n",
            "\n"
          ]
        },
        {
          "output_type": "stream",
          "name": "stderr",
          "text": [
            "100%|██████████| 57/57 [00:16<00:00,  3.46it/s, batch_acc=0.375, batch_idx=56, loss=0.464]\n"
          ]
        },
        {
          "output_type": "stream",
          "name": "stdout",
          "text": [
            "Epoch: 1, val loss: 0.4493, val acc: 0.7656, train loss: 2.7148, train acc: 0.8388,\n",
            "\n"
          ]
        },
        {
          "output_type": "stream",
          "name": "stderr",
          "text": [
            "100%|██████████| 57/57 [00:18<00:00,  3.11it/s, batch_acc=0.344, batch_idx=56, loss=0.604]\n"
          ]
        },
        {
          "output_type": "stream",
          "name": "stdout",
          "text": [
            "Epoch: 2, val loss: 0.3428, val acc: 0.7969, train loss: 2.6481, train acc: 0.8865,\n",
            "\n"
          ]
        },
        {
          "output_type": "stream",
          "name": "stderr",
          "text": [
            "100%|██████████| 57/57 [00:16<00:00,  3.40it/s, batch_acc=0.406, batch_idx=56, loss=0.313]\n"
          ]
        },
        {
          "output_type": "stream",
          "name": "stdout",
          "text": [
            "Epoch: 3, val loss: 0.3028, val acc: 0.8047, train loss: 2.5219, train acc: 0.9046,\n",
            "\n"
          ]
        },
        {
          "output_type": "stream",
          "name": "stderr",
          "text": [
            "100%|██████████| 57/57 [00:17<00:00,  3.23it/s, batch_acc=0.406, batch_idx=56, loss=0.228]\n"
          ]
        },
        {
          "output_type": "stream",
          "name": "stdout",
          "text": [
            "Epoch: 4, val loss: 0.2712, val acc: 0.7930, train loss: 2.5745, train acc: 0.9243,\n",
            "\n"
          ]
        },
        {
          "output_type": "stream",
          "name": "stderr",
          "text": [
            "100%|██████████| 57/57 [00:18<00:00,  3.11it/s, batch_acc=0.438, batch_idx=56, loss=0.176]\n"
          ]
        },
        {
          "output_type": "stream",
          "name": "stdout",
          "text": [
            "Epoch: 5, val loss: 0.2617, val acc: 0.8008, train loss: 2.6920, train acc: 0.9353,\n",
            "\n"
          ]
        },
        {
          "output_type": "stream",
          "name": "stderr",
          "text": [
            "100%|██████████| 57/57 [00:16<00:00,  3.40it/s, batch_acc=0.406, batch_idx=56, loss=0.265]\n"
          ]
        },
        {
          "output_type": "stream",
          "name": "stdout",
          "text": [
            "Epoch: 6, val loss: 0.2546, val acc: 0.8086, train loss: 2.2666, train acc: 0.9430,\n",
            "\n"
          ]
        },
        {
          "output_type": "stream",
          "name": "stderr",
          "text": [
            "100%|██████████| 57/57 [00:16<00:00,  3.43it/s, batch_acc=0.406, batch_idx=56, loss=0.213]\n"
          ]
        },
        {
          "output_type": "stream",
          "name": "stdout",
          "text": [
            "Epoch: 7, val loss: 0.2642, val acc: 0.8086, train loss: 2.4342, train acc: 0.9529,\n",
            "\n"
          ]
        },
        {
          "output_type": "stream",
          "name": "stderr",
          "text": [
            " 46%|████▌     | 26/57 [00:08<00:10,  3.00it/s, batch_acc=0.969, batch_idx=25, loss=0.124]\n"
          ]
        },
        {
          "output_type": "error",
          "ename": "KeyboardInterrupt",
          "evalue": "ignored",
          "traceback": [
            "\u001b[0;31m---------------------------------------------------------------------------\u001b[0m",
            "\u001b[0;31mKeyboardInterrupt\u001b[0m                         Traceback (most recent call last)",
            "\u001b[0;32m<ipython-input-50-663f300db47a>\u001b[0m in \u001b[0;36m<module>\u001b[0;34m\u001b[0m\n\u001b[1;32m      1\u001b[0m \u001b[0mresnet\u001b[0m \u001b[0;34m=\u001b[0m \u001b[0mtorch\u001b[0m\u001b[0;34m.\u001b[0m\u001b[0mhub\u001b[0m\u001b[0;34m.\u001b[0m\u001b[0mload\u001b[0m\u001b[0;34m(\u001b[0m\u001b[0;34m'pytorch/vision:v0.6.0'\u001b[0m\u001b[0;34m,\u001b[0m \u001b[0;34m'resnet18'\u001b[0m\u001b[0;34m,\u001b[0m \u001b[0mpretrained\u001b[0m\u001b[0;34m=\u001b[0m\u001b[0;32mTrue\u001b[0m\u001b[0;34m)\u001b[0m\u001b[0;34m\u001b[0m\u001b[0;34m\u001b[0m\u001b[0m\n\u001b[1;32m      2\u001b[0m \u001b[0mresnet\u001b[0m\u001b[0;34m.\u001b[0m\u001b[0mfc\u001b[0m \u001b[0;34m=\u001b[0m \u001b[0mnn\u001b[0m\u001b[0;34m.\u001b[0m\u001b[0mLinear\u001b[0m\u001b[0;34m(\u001b[0m\u001b[0;36m512\u001b[0m\u001b[0;34m,\u001b[0m \u001b[0;36m12\u001b[0m\u001b[0;34m)\u001b[0m \u001b[0;31m# This will reinitialize the layer as well\u001b[0m\u001b[0;34m\u001b[0m\u001b[0;34m\u001b[0m\u001b[0m\n\u001b[0;32m----> 3\u001b[0;31m \u001b[0mlosses\u001b[0m \u001b[0;34m=\u001b[0m \u001b[0mtrain\u001b[0m\u001b[0;34m(\u001b[0m\u001b[0mresnet\u001b[0m\u001b[0;34m,\u001b[0m \u001b[0mepochs\u001b[0m\u001b[0;34m=\u001b[0m\u001b[0;36m20\u001b[0m\u001b[0;34m,\u001b[0m  \u001b[0mlr\u001b[0m\u001b[0;34m=\u001b[0m\u001b[0;36m.001\u001b[0m\u001b[0;34m)\u001b[0m\u001b[0;34m\u001b[0m\u001b[0;34m\u001b[0m\u001b[0m\n\u001b[0m",
            "\u001b[0;32m<ipython-input-32-011b859f591f>\u001b[0m in \u001b[0;36mtrain\u001b[0;34m(net, epochs, start_epoch, lr, momentum, decay, state, schedule)\u001b[0m\n\u001b[1;32m     35\u001b[0m \u001b[0;34m\u001b[0m\u001b[0m\n\u001b[1;32m     36\u001b[0m         \u001b[0mloop\u001b[0m \u001b[0;34m=\u001b[0m \u001b[0mtqdm\u001b[0m\u001b[0;34m(\u001b[0m\u001b[0menumerate\u001b[0m\u001b[0;34m(\u001b[0m\u001b[0mtrain_loader\u001b[0m\u001b[0;34m)\u001b[0m\u001b[0;34m,\u001b[0m \u001b[0mtotal\u001b[0m \u001b[0;34m=\u001b[0m \u001b[0mlen\u001b[0m\u001b[0;34m(\u001b[0m\u001b[0mtrain_loader\u001b[0m\u001b[0;34m)\u001b[0m\u001b[0;34m)\u001b[0m\u001b[0;34m\u001b[0m\u001b[0;34m\u001b[0m\u001b[0m\n\u001b[0;32m---> 37\u001b[0;31m         \u001b[0;32mfor\u001b[0m \u001b[0mi\u001b[0m\u001b[0;34m,\u001b[0m \u001b[0mbatch\u001b[0m \u001b[0;32min\u001b[0m \u001b[0mloop\u001b[0m\u001b[0;34m:\u001b[0m\u001b[0;34m\u001b[0m\u001b[0;34m\u001b[0m\u001b[0m\n\u001b[0m\u001b[1;32m     38\u001b[0m           \u001b[0minputs\u001b[0m\u001b[0;34m,\u001b[0m \u001b[0mlabels\u001b[0m \u001b[0;34m=\u001b[0m \u001b[0mbatch\u001b[0m\u001b[0;34m[\u001b[0m\u001b[0;36m0\u001b[0m\u001b[0;34m]\u001b[0m\u001b[0;34m.\u001b[0m\u001b[0mto\u001b[0m\u001b[0;34m(\u001b[0m\u001b[0mDEVICE\u001b[0m\u001b[0;34m)\u001b[0m\u001b[0;34m,\u001b[0m \u001b[0mbatch\u001b[0m\u001b[0;34m[\u001b[0m\u001b[0;36m1\u001b[0m\u001b[0;34m]\u001b[0m\u001b[0;34m.\u001b[0m\u001b[0mto\u001b[0m\u001b[0;34m(\u001b[0m\u001b[0mDEVICE\u001b[0m\u001b[0;34m)\u001b[0m\u001b[0;34m\u001b[0m\u001b[0;34m\u001b[0m\u001b[0m\n\u001b[1;32m     39\u001b[0m \u001b[0;34m\u001b[0m\u001b[0m\n",
            "\u001b[0;32m/usr/local/lib/python3.9/dist-packages/tqdm/std.py\u001b[0m in \u001b[0;36m__iter__\u001b[0;34m(self)\u001b[0m\n\u001b[1;32m   1176\u001b[0m \u001b[0;34m\u001b[0m\u001b[0m\n\u001b[1;32m   1177\u001b[0m         \u001b[0;32mtry\u001b[0m\u001b[0;34m:\u001b[0m\u001b[0;34m\u001b[0m\u001b[0;34m\u001b[0m\u001b[0m\n\u001b[0;32m-> 1178\u001b[0;31m             \u001b[0;32mfor\u001b[0m \u001b[0mobj\u001b[0m \u001b[0;32min\u001b[0m \u001b[0miterable\u001b[0m\u001b[0;34m:\u001b[0m\u001b[0;34m\u001b[0m\u001b[0;34m\u001b[0m\u001b[0m\n\u001b[0m\u001b[1;32m   1179\u001b[0m                 \u001b[0;32myield\u001b[0m \u001b[0mobj\u001b[0m\u001b[0;34m\u001b[0m\u001b[0;34m\u001b[0m\u001b[0m\n\u001b[1;32m   1180\u001b[0m                 \u001b[0;31m# Update and possibly print the progressbar.\u001b[0m\u001b[0;34m\u001b[0m\u001b[0;34m\u001b[0m\u001b[0m\n",
            "\u001b[0;32m/usr/local/lib/python3.9/dist-packages/torch/utils/data/dataloader.py\u001b[0m in \u001b[0;36m__next__\u001b[0;34m(self)\u001b[0m\n\u001b[1;32m    626\u001b[0m                 \u001b[0;31m# TODO(https://github.com/pytorch/pytorch/issues/76750)\u001b[0m\u001b[0;34m\u001b[0m\u001b[0;34m\u001b[0m\u001b[0m\n\u001b[1;32m    627\u001b[0m                 \u001b[0mself\u001b[0m\u001b[0;34m.\u001b[0m\u001b[0m_reset\u001b[0m\u001b[0;34m(\u001b[0m\u001b[0;34m)\u001b[0m  \u001b[0;31m# type: ignore[call-arg]\u001b[0m\u001b[0;34m\u001b[0m\u001b[0;34m\u001b[0m\u001b[0m\n\u001b[0;32m--> 628\u001b[0;31m             \u001b[0mdata\u001b[0m \u001b[0;34m=\u001b[0m \u001b[0mself\u001b[0m\u001b[0;34m.\u001b[0m\u001b[0m_next_data\u001b[0m\u001b[0;34m(\u001b[0m\u001b[0;34m)\u001b[0m\u001b[0;34m\u001b[0m\u001b[0;34m\u001b[0m\u001b[0m\n\u001b[0m\u001b[1;32m    629\u001b[0m             \u001b[0mself\u001b[0m\u001b[0;34m.\u001b[0m\u001b[0m_num_yielded\u001b[0m \u001b[0;34m+=\u001b[0m \u001b[0;36m1\u001b[0m\u001b[0;34m\u001b[0m\u001b[0;34m\u001b[0m\u001b[0m\n\u001b[1;32m    630\u001b[0m             \u001b[0;32mif\u001b[0m \u001b[0mself\u001b[0m\u001b[0;34m.\u001b[0m\u001b[0m_dataset_kind\u001b[0m \u001b[0;34m==\u001b[0m \u001b[0m_DatasetKind\u001b[0m\u001b[0;34m.\u001b[0m\u001b[0mIterable\u001b[0m \u001b[0;32mand\u001b[0m\u001b[0;31m \u001b[0m\u001b[0;31m\\\u001b[0m\u001b[0;34m\u001b[0m\u001b[0;34m\u001b[0m\u001b[0m\n",
            "\u001b[0;32m/usr/local/lib/python3.9/dist-packages/torch/utils/data/dataloader.py\u001b[0m in \u001b[0;36m_next_data\u001b[0;34m(self)\u001b[0m\n\u001b[1;32m   1314\u001b[0m \u001b[0;34m\u001b[0m\u001b[0m\n\u001b[1;32m   1315\u001b[0m             \u001b[0;32massert\u001b[0m \u001b[0;32mnot\u001b[0m \u001b[0mself\u001b[0m\u001b[0;34m.\u001b[0m\u001b[0m_shutdown\u001b[0m \u001b[0;32mand\u001b[0m \u001b[0mself\u001b[0m\u001b[0;34m.\u001b[0m\u001b[0m_tasks_outstanding\u001b[0m \u001b[0;34m>\u001b[0m \u001b[0;36m0\u001b[0m\u001b[0;34m\u001b[0m\u001b[0;34m\u001b[0m\u001b[0m\n\u001b[0;32m-> 1316\u001b[0;31m             \u001b[0midx\u001b[0m\u001b[0;34m,\u001b[0m \u001b[0mdata\u001b[0m \u001b[0;34m=\u001b[0m \u001b[0mself\u001b[0m\u001b[0;34m.\u001b[0m\u001b[0m_get_data\u001b[0m\u001b[0;34m(\u001b[0m\u001b[0;34m)\u001b[0m\u001b[0;34m\u001b[0m\u001b[0;34m\u001b[0m\u001b[0m\n\u001b[0m\u001b[1;32m   1317\u001b[0m             \u001b[0mself\u001b[0m\u001b[0;34m.\u001b[0m\u001b[0m_tasks_outstanding\u001b[0m \u001b[0;34m-=\u001b[0m \u001b[0;36m1\u001b[0m\u001b[0;34m\u001b[0m\u001b[0;34m\u001b[0m\u001b[0m\n\u001b[1;32m   1318\u001b[0m             \u001b[0;32mif\u001b[0m \u001b[0mself\u001b[0m\u001b[0;34m.\u001b[0m\u001b[0m_dataset_kind\u001b[0m \u001b[0;34m==\u001b[0m \u001b[0m_DatasetKind\u001b[0m\u001b[0;34m.\u001b[0m\u001b[0mIterable\u001b[0m\u001b[0;34m:\u001b[0m\u001b[0;34m\u001b[0m\u001b[0;34m\u001b[0m\u001b[0m\n",
            "\u001b[0;32m/usr/local/lib/python3.9/dist-packages/torch/utils/data/dataloader.py\u001b[0m in \u001b[0;36m_get_data\u001b[0;34m(self)\u001b[0m\n\u001b[1;32m   1280\u001b[0m         \u001b[0;32melse\u001b[0m\u001b[0;34m:\u001b[0m\u001b[0;34m\u001b[0m\u001b[0;34m\u001b[0m\u001b[0m\n\u001b[1;32m   1281\u001b[0m             \u001b[0;32mwhile\u001b[0m \u001b[0;32mTrue\u001b[0m\u001b[0;34m:\u001b[0m\u001b[0;34m\u001b[0m\u001b[0;34m\u001b[0m\u001b[0m\n\u001b[0;32m-> 1282\u001b[0;31m                 \u001b[0msuccess\u001b[0m\u001b[0;34m,\u001b[0m \u001b[0mdata\u001b[0m \u001b[0;34m=\u001b[0m \u001b[0mself\u001b[0m\u001b[0;34m.\u001b[0m\u001b[0m_try_get_data\u001b[0m\u001b[0;34m(\u001b[0m\u001b[0;34m)\u001b[0m\u001b[0;34m\u001b[0m\u001b[0;34m\u001b[0m\u001b[0m\n\u001b[0m\u001b[1;32m   1283\u001b[0m                 \u001b[0;32mif\u001b[0m \u001b[0msuccess\u001b[0m\u001b[0;34m:\u001b[0m\u001b[0;34m\u001b[0m\u001b[0;34m\u001b[0m\u001b[0m\n\u001b[1;32m   1284\u001b[0m                     \u001b[0;32mreturn\u001b[0m \u001b[0mdata\u001b[0m\u001b[0;34m\u001b[0m\u001b[0;34m\u001b[0m\u001b[0m\n",
            "\u001b[0;32m/usr/local/lib/python3.9/dist-packages/torch/utils/data/dataloader.py\u001b[0m in \u001b[0;36m_try_get_data\u001b[0;34m(self, timeout)\u001b[0m\n\u001b[1;32m   1118\u001b[0m         \u001b[0;31m#   (bool: whether successfully get data, any: data if successful else None)\u001b[0m\u001b[0;34m\u001b[0m\u001b[0;34m\u001b[0m\u001b[0m\n\u001b[1;32m   1119\u001b[0m         \u001b[0;32mtry\u001b[0m\u001b[0;34m:\u001b[0m\u001b[0;34m\u001b[0m\u001b[0;34m\u001b[0m\u001b[0m\n\u001b[0;32m-> 1120\u001b[0;31m             \u001b[0mdata\u001b[0m \u001b[0;34m=\u001b[0m \u001b[0mself\u001b[0m\u001b[0;34m.\u001b[0m\u001b[0m_data_queue\u001b[0m\u001b[0;34m.\u001b[0m\u001b[0mget\u001b[0m\u001b[0;34m(\u001b[0m\u001b[0mtimeout\u001b[0m\u001b[0;34m=\u001b[0m\u001b[0mtimeout\u001b[0m\u001b[0;34m)\u001b[0m\u001b[0;34m\u001b[0m\u001b[0;34m\u001b[0m\u001b[0m\n\u001b[0m\u001b[1;32m   1121\u001b[0m             \u001b[0;32mreturn\u001b[0m \u001b[0;34m(\u001b[0m\u001b[0;32mTrue\u001b[0m\u001b[0;34m,\u001b[0m \u001b[0mdata\u001b[0m\u001b[0;34m)\u001b[0m\u001b[0;34m\u001b[0m\u001b[0;34m\u001b[0m\u001b[0m\n\u001b[1;32m   1122\u001b[0m         \u001b[0;32mexcept\u001b[0m \u001b[0mException\u001b[0m \u001b[0;32mas\u001b[0m \u001b[0me\u001b[0m\u001b[0;34m:\u001b[0m\u001b[0;34m\u001b[0m\u001b[0;34m\u001b[0m\u001b[0m\n",
            "\u001b[0;32m/usr/lib/python3.9/multiprocessing/queues.py\u001b[0m in \u001b[0;36mget\u001b[0;34m(self, block, timeout)\u001b[0m\n\u001b[1;32m    111\u001b[0m                 \u001b[0;32mif\u001b[0m \u001b[0mblock\u001b[0m\u001b[0;34m:\u001b[0m\u001b[0;34m\u001b[0m\u001b[0;34m\u001b[0m\u001b[0m\n\u001b[1;32m    112\u001b[0m                     \u001b[0mtimeout\u001b[0m \u001b[0;34m=\u001b[0m \u001b[0mdeadline\u001b[0m \u001b[0;34m-\u001b[0m \u001b[0mtime\u001b[0m\u001b[0;34m.\u001b[0m\u001b[0mmonotonic\u001b[0m\u001b[0;34m(\u001b[0m\u001b[0;34m)\u001b[0m\u001b[0;34m\u001b[0m\u001b[0;34m\u001b[0m\u001b[0m\n\u001b[0;32m--> 113\u001b[0;31m                     \u001b[0;32mif\u001b[0m \u001b[0;32mnot\u001b[0m \u001b[0mself\u001b[0m\u001b[0;34m.\u001b[0m\u001b[0m_poll\u001b[0m\u001b[0;34m(\u001b[0m\u001b[0mtimeout\u001b[0m\u001b[0;34m)\u001b[0m\u001b[0;34m:\u001b[0m\u001b[0;34m\u001b[0m\u001b[0;34m\u001b[0m\u001b[0m\n\u001b[0m\u001b[1;32m    114\u001b[0m                         \u001b[0;32mraise\u001b[0m \u001b[0mEmpty\u001b[0m\u001b[0;34m\u001b[0m\u001b[0;34m\u001b[0m\u001b[0m\n\u001b[1;32m    115\u001b[0m                 \u001b[0;32melif\u001b[0m \u001b[0;32mnot\u001b[0m \u001b[0mself\u001b[0m\u001b[0;34m.\u001b[0m\u001b[0m_poll\u001b[0m\u001b[0;34m(\u001b[0m\u001b[0;34m)\u001b[0m\u001b[0;34m:\u001b[0m\u001b[0;34m\u001b[0m\u001b[0;34m\u001b[0m\u001b[0m\n",
            "\u001b[0;32m/usr/lib/python3.9/multiprocessing/connection.py\u001b[0m in \u001b[0;36mpoll\u001b[0;34m(self, timeout)\u001b[0m\n\u001b[1;32m    255\u001b[0m         \u001b[0mself\u001b[0m\u001b[0;34m.\u001b[0m\u001b[0m_check_closed\u001b[0m\u001b[0;34m(\u001b[0m\u001b[0;34m)\u001b[0m\u001b[0;34m\u001b[0m\u001b[0;34m\u001b[0m\u001b[0m\n\u001b[1;32m    256\u001b[0m         \u001b[0mself\u001b[0m\u001b[0;34m.\u001b[0m\u001b[0m_check_readable\u001b[0m\u001b[0;34m(\u001b[0m\u001b[0;34m)\u001b[0m\u001b[0;34m\u001b[0m\u001b[0;34m\u001b[0m\u001b[0m\n\u001b[0;32m--> 257\u001b[0;31m         \u001b[0;32mreturn\u001b[0m \u001b[0mself\u001b[0m\u001b[0;34m.\u001b[0m\u001b[0m_poll\u001b[0m\u001b[0;34m(\u001b[0m\u001b[0mtimeout\u001b[0m\u001b[0;34m)\u001b[0m\u001b[0;34m\u001b[0m\u001b[0;34m\u001b[0m\u001b[0m\n\u001b[0m\u001b[1;32m    258\u001b[0m \u001b[0;34m\u001b[0m\u001b[0m\n\u001b[1;32m    259\u001b[0m     \u001b[0;32mdef\u001b[0m \u001b[0m__enter__\u001b[0m\u001b[0;34m(\u001b[0m\u001b[0mself\u001b[0m\u001b[0;34m)\u001b[0m\u001b[0;34m:\u001b[0m\u001b[0;34m\u001b[0m\u001b[0;34m\u001b[0m\u001b[0m\n",
            "\u001b[0;32m/usr/lib/python3.9/multiprocessing/connection.py\u001b[0m in \u001b[0;36m_poll\u001b[0;34m(self, timeout)\u001b[0m\n\u001b[1;32m    422\u001b[0m \u001b[0;34m\u001b[0m\u001b[0m\n\u001b[1;32m    423\u001b[0m     \u001b[0;32mdef\u001b[0m \u001b[0m_poll\u001b[0m\u001b[0;34m(\u001b[0m\u001b[0mself\u001b[0m\u001b[0;34m,\u001b[0m \u001b[0mtimeout\u001b[0m\u001b[0;34m)\u001b[0m\u001b[0;34m:\u001b[0m\u001b[0;34m\u001b[0m\u001b[0;34m\u001b[0m\u001b[0m\n\u001b[0;32m--> 424\u001b[0;31m         \u001b[0mr\u001b[0m \u001b[0;34m=\u001b[0m \u001b[0mwait\u001b[0m\u001b[0;34m(\u001b[0m\u001b[0;34m[\u001b[0m\u001b[0mself\u001b[0m\u001b[0;34m]\u001b[0m\u001b[0;34m,\u001b[0m \u001b[0mtimeout\u001b[0m\u001b[0;34m)\u001b[0m\u001b[0;34m\u001b[0m\u001b[0;34m\u001b[0m\u001b[0m\n\u001b[0m\u001b[1;32m    425\u001b[0m         \u001b[0;32mreturn\u001b[0m \u001b[0mbool\u001b[0m\u001b[0;34m(\u001b[0m\u001b[0mr\u001b[0m\u001b[0;34m)\u001b[0m\u001b[0;34m\u001b[0m\u001b[0;34m\u001b[0m\u001b[0m\n\u001b[1;32m    426\u001b[0m \u001b[0;34m\u001b[0m\u001b[0m\n",
            "\u001b[0;32m/usr/lib/python3.9/multiprocessing/connection.py\u001b[0m in \u001b[0;36mwait\u001b[0;34m(object_list, timeout)\u001b[0m\n\u001b[1;32m    929\u001b[0m \u001b[0;34m\u001b[0m\u001b[0m\n\u001b[1;32m    930\u001b[0m             \u001b[0;32mwhile\u001b[0m \u001b[0;32mTrue\u001b[0m\u001b[0;34m:\u001b[0m\u001b[0;34m\u001b[0m\u001b[0;34m\u001b[0m\u001b[0m\n\u001b[0;32m--> 931\u001b[0;31m                 \u001b[0mready\u001b[0m \u001b[0;34m=\u001b[0m \u001b[0mselector\u001b[0m\u001b[0;34m.\u001b[0m\u001b[0mselect\u001b[0m\u001b[0;34m(\u001b[0m\u001b[0mtimeout\u001b[0m\u001b[0;34m)\u001b[0m\u001b[0;34m\u001b[0m\u001b[0;34m\u001b[0m\u001b[0m\n\u001b[0m\u001b[1;32m    932\u001b[0m                 \u001b[0;32mif\u001b[0m \u001b[0mready\u001b[0m\u001b[0;34m:\u001b[0m\u001b[0;34m\u001b[0m\u001b[0;34m\u001b[0m\u001b[0m\n\u001b[1;32m    933\u001b[0m                     \u001b[0;32mreturn\u001b[0m \u001b[0;34m[\u001b[0m\u001b[0mkey\u001b[0m\u001b[0;34m.\u001b[0m\u001b[0mfileobj\u001b[0m \u001b[0;32mfor\u001b[0m \u001b[0;34m(\u001b[0m\u001b[0mkey\u001b[0m\u001b[0;34m,\u001b[0m \u001b[0mevents\u001b[0m\u001b[0;34m)\u001b[0m \u001b[0;32min\u001b[0m \u001b[0mready\u001b[0m\u001b[0;34m]\u001b[0m\u001b[0;34m\u001b[0m\u001b[0;34m\u001b[0m\u001b[0m\n",
            "\u001b[0;32m/usr/lib/python3.9/selectors.py\u001b[0m in \u001b[0;36mselect\u001b[0;34m(self, timeout)\u001b[0m\n\u001b[1;32m    414\u001b[0m         \u001b[0mready\u001b[0m \u001b[0;34m=\u001b[0m \u001b[0;34m[\u001b[0m\u001b[0;34m]\u001b[0m\u001b[0;34m\u001b[0m\u001b[0;34m\u001b[0m\u001b[0m\n\u001b[1;32m    415\u001b[0m         \u001b[0;32mtry\u001b[0m\u001b[0;34m:\u001b[0m\u001b[0;34m\u001b[0m\u001b[0;34m\u001b[0m\u001b[0m\n\u001b[0;32m--> 416\u001b[0;31m             \u001b[0mfd_event_list\u001b[0m \u001b[0;34m=\u001b[0m \u001b[0mself\u001b[0m\u001b[0;34m.\u001b[0m\u001b[0m_selector\u001b[0m\u001b[0;34m.\u001b[0m\u001b[0mpoll\u001b[0m\u001b[0;34m(\u001b[0m\u001b[0mtimeout\u001b[0m\u001b[0;34m)\u001b[0m\u001b[0;34m\u001b[0m\u001b[0;34m\u001b[0m\u001b[0m\n\u001b[0m\u001b[1;32m    417\u001b[0m         \u001b[0;32mexcept\u001b[0m \u001b[0mInterruptedError\u001b[0m\u001b[0;34m:\u001b[0m\u001b[0;34m\u001b[0m\u001b[0;34m\u001b[0m\u001b[0m\n\u001b[1;32m    418\u001b[0m             \u001b[0;32mreturn\u001b[0m \u001b[0mready\u001b[0m\u001b[0;34m\u001b[0m\u001b[0;34m\u001b[0m\u001b[0m\n",
            "\u001b[0;31mKeyboardInterrupt\u001b[0m: "
          ]
        }
      ]
    },
    {
      "cell_type": "code",
      "source": [
        "def evaluate(model:  nn.Module, dataloader):\n",
        "  correct = 0\n",
        "  total = 0\n",
        "  model.eval()\n",
        "  with torch.no_grad():\n",
        "      for  (batch, labels) in tqdm(dataloader):\n",
        "          images, labels = batch.to(DEVICE), labels.to(DEVICE)\n",
        "          outputs = model(images)\n",
        "          _, predicted = torch.max(outputs.data, dim = 1)\n",
        "          total += labels.size(0)\n",
        "          correct += (predicted == labels).sum().item()\n",
        "  return correct/total"
      ],
      "metadata": {
        "id": "MLVKGFGWo1Wg"
      },
      "execution_count": null,
      "outputs": []
    },
    {
      "cell_type": "code",
      "source": [
        "resnet.load_state_dict(torch.load('/content/drive/Shareddrives/cse 455/CatBreed_models/CatBreed_ckpt6.pt'))\n",
        "\n",
        "test_acc = evaluate(resnet, test_loader)\n",
        "print(f\"\\n Test Accuracy: {test_acc}\")"
      ],
      "metadata": {
        "id": "v-i7Ru2QjrMW",
        "colab": {
          "base_uri": "https://localhost:8080/"
        },
        "outputId": "382205d3-324b-4ed5-f4e2-013cc86cadc6"
      },
      "execution_count": null,
      "outputs": [
        {
          "output_type": "stream",
          "name": "stderr",
          "text": [
            "100%|██████████| 8/8 [00:01<00:00,  4.30it/s]"
          ]
        },
        {
          "output_type": "stream",
          "name": "stdout",
          "text": [
            "\n",
            " Test Accuracy: 0.9304347826086956\n"
          ]
        },
        {
          "output_type": "stream",
          "name": "stderr",
          "text": [
            "\n"
          ]
        }
      ]
    }
  ]
}